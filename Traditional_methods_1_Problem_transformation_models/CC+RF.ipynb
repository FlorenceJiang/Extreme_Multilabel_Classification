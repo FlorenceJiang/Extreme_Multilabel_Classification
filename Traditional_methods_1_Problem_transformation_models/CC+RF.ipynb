{
  "nbformat": 4,
  "nbformat_minor": 0,
  "metadata": {
    "colab": {
      "name": "CC+RF.ipynb",
      "provenance": [],
      "collapsed_sections": []
    },
    "kernelspec": {
      "name": "python3",
      "display_name": "Python 3"
    }
  },
  "cells": [
    {
      "cell_type": "code",
      "metadata": {
        "id": "-hv411W1prey",
        "colab_type": "code",
        "outputId": "ec753ab9-f679-482a-af36-ffc35003def8",
        "colab": {
          "base_uri": "https://localhost:8080/",
          "height": 106
        }
      },
      "source": [
        "!pip install scikit-multilearn"
      ],
      "execution_count": 0,
      "outputs": [
        {
          "output_type": "stream",
          "text": [
            "Collecting scikit-multilearn\n",
            "\u001b[?25l  Downloading https://files.pythonhosted.org/packages/bb/1f/e6ff649c72a1cdf2c7a1d31eb21705110ce1c5d3e7e26b2cc300e1637272/scikit_multilearn-0.2.0-py3-none-any.whl (89kB)\n",
            "\u001b[K     |████████████████████████████████| 92kB 2.8MB/s \n",
            "\u001b[?25hInstalling collected packages: scikit-multilearn\n",
            "Successfully installed scikit-multilearn-0.2.0\n"
          ],
          "name": "stdout"
        }
      ]
    },
    {
      "cell_type": "code",
      "metadata": {
        "id": "DRKCQyx0MXAc",
        "colab_type": "code",
        "outputId": "8c77dc14-91f2-4710-9311-f62f911ff63a",
        "colab": {
          "base_uri": "https://localhost:8080/",
          "height": 35
        }
      },
      "source": [
        "cd drive/My\\ Drive/1003\\ Project"
      ],
      "execution_count": 0,
      "outputs": [
        {
          "output_type": "stream",
          "text": [
            "/content/drive/My Drive/1003 Project\n"
          ],
          "name": "stdout"
        }
      ]
    },
    {
      "cell_type": "markdown",
      "metadata": {
        "id": "S1eDmLbkL7lR",
        "colab_type": "text"
      },
      "source": [
        "# Load data"
      ]
    },
    {
      "cell_type": "code",
      "metadata": {
        "id": "ssVS0uM7L7Pl",
        "colab_type": "code",
        "colab": {}
      },
      "source": [
        "import pandas as pd\n",
        "import numpy as np\n",
        "from tqdm.notebook import tqdm\n",
        "from sklearn.preprocessing import MultiLabelBinarizer\n",
        "from sklearn.metrics import label_ranking_average_precision_score as LRAP"
      ],
      "execution_count": 0,
      "outputs": []
    },
    {
      "cell_type": "code",
      "metadata": {
        "id": "e8qeGsGZXCYE",
        "colab_type": "code",
        "colab": {}
      },
      "source": [
        "def load_data(file_name):\n",
        "\n",
        "    # load data from csv\n",
        "    data = pd.read_csv(file_name, usecols=['labels', 'features'])\n",
        "\n",
        "    # remove rows without proper label\n",
        "    rows_to_remove = [i for i in range(len(data)) if ':' in data.loc[i,'labels']]\n",
        "    data.drop(rows_to_remove, inplace=True)\n",
        "    data.reset_index(drop=True, inplace=True)\n",
        "\n",
        "    # extract features from sparse representation\n",
        "    feature = np.zeros((len(data), 5000))\n",
        "    for i in range(len(data)):\n",
        "        for j in data.loc[i,'features'].replace('\\n','').split():\n",
        "            ft, val = j.split(':')\n",
        "            feature[i,int(ft)] = float(val)\n",
        "    X = pd.DataFrame(feature)\n",
        "\n",
        "    # extract labels\n",
        "    y = data['labels'].map(lambda x: tuple([int(i) for i in x.replace(' ','').split(',')]))\n",
        "    \n",
        "    return X, y"
      ],
      "execution_count": 0,
      "outputs": []
    },
    {
      "cell_type": "code",
      "metadata": {
        "id": "Kcfudgu5L5FN",
        "colab_type": "code",
        "colab": {}
      },
      "source": [
        "X_train, y_train = load_data(\"train.csv\")\n",
        "X_val, y_val = load_data('dev.csv')"
      ],
      "execution_count": 0,
      "outputs": []
    },
    {
      "cell_type": "code",
      "metadata": {
        "id": "Qh_Lyq7MZLf2",
        "colab_type": "code",
        "outputId": "9c208cbd-47a3-4ed9-8673-4da3a1af105b",
        "colab": {
          "base_uri": "https://localhost:8080/",
          "height": 35
        }
      },
      "source": [
        "X_train.shape"
      ],
      "execution_count": 0,
      "outputs": [
        {
          "output_type": "execute_result",
          "data": {
            "text/plain": [
              "(15511, 5000)"
            ]
          },
          "metadata": {
            "tags": []
          },
          "execution_count": 6
        }
      ]
    },
    {
      "cell_type": "code",
      "metadata": {
        "id": "udnXKnnQnt2q",
        "colab_type": "code",
        "colab": {}
      },
      "source": [
        "binarizer = MultiLabelBinarizer()\n",
        "binary_y_train = binarizer.fit_transform(y_train)"
      ],
      "execution_count": 0,
      "outputs": []
    },
    {
      "cell_type": "code",
      "metadata": {
        "id": "83hyI6quqqb9",
        "colab_type": "code",
        "outputId": "f6a6404e-a3ee-43b3-8f09-96c4fcb091be",
        "colab": {
          "base_uri": "https://localhost:8080/",
          "height": 35
        }
      },
      "source": [
        "binary_y_train.shape"
      ],
      "execution_count": 0,
      "outputs": [
        {
          "output_type": "execute_result",
          "data": {
            "text/plain": [
              "(15511, 3786)"
            ]
          },
          "metadata": {
            "tags": []
          },
          "execution_count": 9
        }
      ]
    },
    {
      "cell_type": "markdown",
      "metadata": {
        "id": "kIHKzm1DDkai",
        "colab_type": "text"
      },
      "source": [
        "## Classifier Chain with RF"
      ]
    },
    {
      "cell_type": "code",
      "metadata": {
        "id": "ILHhRc6dLmvk",
        "colab_type": "code",
        "colab": {}
      },
      "source": [
        "from skmultilearn.problem_transform import ClassifierChain\n",
        "from sklearn.ensemble import RandomForestClassifier\n",
        "import time\n",
        "start_time = time.time()\n",
        "clf = ClassifierChain(RandomForestClassifier())\n",
        "clf.fit(X_train, binary_y_train)\n",
        "end_time = time.time()"
      ],
      "execution_count": 0,
      "outputs": []
    },
    {
      "cell_type": "code",
      "metadata": {
        "id": "zNxKoQ3zDj8h",
        "colab_type": "code",
        "outputId": "7bd4df47-6264-4deb-c3c5-2fb8376eb064",
        "colab": {
          "base_uri": "https://localhost:8080/",
          "height": 35
        }
      },
      "source": [
        "print('Training time:', end_time - start_time)"
      ],
      "execution_count": 0,
      "outputs": [
        {
          "output_type": "stream",
          "text": [
            "Training time: 11963.349047899246\n"
          ],
          "name": "stdout"
        }
      ]
    },
    {
      "cell_type": "code",
      "metadata": {
        "id": "RZUBVvrhDj5I",
        "colab_type": "code",
        "outputId": "7895679c-7e16-48f1-d56f-9b7838effd91",
        "colab": {
          "base_uri": "https://localhost:8080/",
          "height": 90
        }
      },
      "source": [
        "binary_y_val = binarizer.transform(y_val)\n",
        "y_val_pred = clf.predict_proba(X_val)\n",
        "print('LRAP: ', LRAP(binary_y_val, y_val_pred.toarray()))"
      ],
      "execution_count": 0,
      "outputs": [
        {
          "output_type": "stream",
          "text": [
            "/usr/local/lib/python3.6/dist-packages/sklearn/preprocessing/_label.py:987: UserWarning: unknown class(es) [1171, 1377, 1717, 1724, 1861, 1918, 1936, 2107, 2119, 2122, 2170, 2202, 2209, 2227, 2249, 2267, 2275, 2311, 2312, 2417, 2471, 2515, 2538, 2560, 2576, 2595, 2617, 2626, 2632, 2653, 2654, 2656, 2672, 2736, 2770, 2771, 2781, 2823, 2858, 2936, 2937, 2945, 2946, 2999, 3027, 3078, 3094, 3114, 3126, 3128, 3131, 3169, 3193, 3205, 3218, 3264, 3309, 3343, 3348, 3358, 3366, 3373, 3383, 3401, 3415, 3468, 3471, 3480, 3481, 3482, 3522, 3523, 3530, 3544, 3546, 3587, 3598, 3607, 3654, 3677, 3678, 3681, 3687, 3701, 3711, 3717, 3723, 3724, 3725, 3727, 3728, 3729, 3749, 3752, 3755, 3771, 3832, 3853, 3882, 3885, 3894, 3898, 3903, 3915, 3954, 3969, 3971, 3972, 466, 469, 788] will be ignored\n",
            "  .format(sorted(unknown, key=str)))\n"
          ],
          "name": "stderr"
        },
        {
          "output_type": "stream",
          "text": [
            "LRAP:  0.5551620623956518\n"
          ],
          "name": "stdout"
        }
      ]
    },
    {
      "cell_type": "code",
      "metadata": {
        "id": "ef0CW2UkyKBl",
        "colab_type": "code",
        "outputId": "a096f576-6a2d-4e49-952d-fa7f2988cca1",
        "colab": {
          "base_uri": "https://localhost:8080/",
          "height": 35
        }
      },
      "source": [
        "from joblib import dump, load\n",
        "dump(clf, 'CC_RF.joblib') "
      ],
      "execution_count": 0,
      "outputs": [
        {
          "output_type": "execute_result",
          "data": {
            "text/plain": [
              "['CC_RF.joblib']"
            ]
          },
          "metadata": {
            "tags": []
          },
          "execution_count": 14
        }
      ]
    },
    {
      "cell_type": "code",
      "metadata": {
        "id": "x9-AJY5VzuHv",
        "colab_type": "code",
        "colab": {}
      },
      "source": [
        "# clf = load('CC_RF.joblib') "
      ],
      "execution_count": 0,
      "outputs": []
    },
    {
      "cell_type": "code",
      "metadata": {
        "id": "N1eeC3iOz4Ta",
        "colab_type": "code",
        "outputId": "06883801-f57a-4c82-f9fd-98d4d90f0e59",
        "colab": {
          "base_uri": "https://localhost:8080/",
          "height": 90
        }
      },
      "source": [
        "# binary_y_val = binarizer.transform(y_val)\n",
        "# y_val_pred = clf.predict_proba(X_val)\n",
        "# print('LRAP: ', LRAP(binary_y_val, y_val_pred.toarray()))"
      ],
      "execution_count": 0,
      "outputs": [
        {
          "output_type": "stream",
          "text": [
            "/usr/local/lib/python3.6/dist-packages/sklearn/preprocessing/_label.py:987: UserWarning: unknown class(es) [1171, 1377, 1717, 1724, 1861, 1918, 1936, 2107, 2119, 2122, 2170, 2202, 2209, 2227, 2249, 2267, 2275, 2311, 2312, 2417, 2471, 2515, 2538, 2560, 2576, 2595, 2617, 2626, 2632, 2653, 2654, 2656, 2672, 2736, 2770, 2771, 2781, 2823, 2858, 2936, 2937, 2945, 2946, 2999, 3027, 3078, 3094, 3114, 3126, 3128, 3131, 3169, 3193, 3205, 3218, 3264, 3309, 3343, 3348, 3358, 3366, 3373, 3383, 3401, 3415, 3468, 3471, 3480, 3481, 3482, 3522, 3523, 3530, 3544, 3546, 3587, 3598, 3607, 3654, 3677, 3678, 3681, 3687, 3701, 3711, 3717, 3723, 3724, 3725, 3727, 3728, 3729, 3749, 3752, 3755, 3771, 3832, 3853, 3882, 3885, 3894, 3898, 3903, 3915, 3954, 3969, 3971, 3972, 466, 469, 788] will be ignored\n",
            "  .format(sorted(unknown, key=str)))\n"
          ],
          "name": "stderr"
        },
        {
          "output_type": "stream",
          "text": [
            "LRAP:  0.5551620623956518\n"
          ],
          "name": "stdout"
        }
      ]
    },
    {
      "cell_type": "code",
      "metadata": {
        "id": "j60inU371GUG",
        "colab_type": "code",
        "colab": {}
      },
      "source": [
        ""
      ],
      "execution_count": 0,
      "outputs": []
    }
  ]
}