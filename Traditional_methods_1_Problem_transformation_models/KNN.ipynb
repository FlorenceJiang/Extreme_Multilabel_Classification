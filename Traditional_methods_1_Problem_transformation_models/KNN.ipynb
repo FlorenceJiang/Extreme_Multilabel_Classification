{
  "nbformat": 4,
  "nbformat_minor": 0,
  "metadata": {
    "colab": {
      "name": "KNN.ipynb",
      "provenance": [],
      "collapsed_sections": [],
      "toc_visible": true
    },
    "kernelspec": {
      "name": "python3",
      "display_name": "Python 3"
    }
  },
  "cells": [
    {
      "cell_type": "code",
      "metadata": {
        "id": "-hv411W1prey",
        "colab_type": "code",
        "outputId": "c37dffa5-feda-4514-d54c-5364cb04405d",
        "colab": {
          "base_uri": "https://localhost:8080/",
          "height": 35
        }
      },
      "source": [
        "!pip install scikit-multilearn"
      ],
      "execution_count": 0,
      "outputs": [
        {
          "output_type": "stream",
          "text": [
            "Requirement already satisfied: scikit-multilearn in /usr/local/lib/python3.6/dist-packages (0.2.0)\n"
          ],
          "name": "stdout"
        }
      ]
    },
    {
      "cell_type": "code",
      "metadata": {
        "id": "DRKCQyx0MXAc",
        "colab_type": "code",
        "outputId": "96341db1-e052-4700-dbcf-2e1e406bbe2e",
        "colab": {
          "base_uri": "https://localhost:8080/",
          "height": 35
        }
      },
      "source": [
        "cd drive/My\\ Drive/1003\\ Project/Data"
      ],
      "execution_count": 0,
      "outputs": [
        {
          "output_type": "stream",
          "text": [
            "/content/drive/My Drive/1003 Project/Data\n"
          ],
          "name": "stdout"
        }
      ]
    },
    {
      "cell_type": "markdown",
      "metadata": {
        "id": "S1eDmLbkL7lR",
        "colab_type": "text"
      },
      "source": [
        "# Load data"
      ]
    },
    {
      "cell_type": "code",
      "metadata": {
        "id": "ssVS0uM7L7Pl",
        "colab_type": "code",
        "colab": {}
      },
      "source": [
        "import pandas as pd\n",
        "import numpy as np\n",
        "from tqdm.notebook import tqdm\n",
        "from sklearn.preprocessing import MultiLabelBinarizer\n",
        "from sklearn.metrics import label_ranking_average_precision_score as LRAP"
      ],
      "execution_count": 0,
      "outputs": []
    },
    {
      "cell_type": "code",
      "metadata": {
        "id": "e8qeGsGZXCYE",
        "colab_type": "code",
        "colab": {}
      },
      "source": [
        "def load_data(file_name):\n",
        "\n",
        "    # load data from csv\n",
        "    data = pd.read_csv(file_name, usecols=['labels', 'features'])\n",
        "\n",
        "    # remove rows without proper label\n",
        "    rows_to_remove = [i for i in range(len(data)) if ':' in data.loc[i,'labels']]\n",
        "    data.drop(rows_to_remove, inplace=True)\n",
        "    data.reset_index(drop=True, inplace=True)\n",
        "\n",
        "    # extract features from sparse representation\n",
        "    feature = np.zeros((len(data), 5000))\n",
        "    for i in range(len(data)):\n",
        "        for j in data.loc[i,'features'].replace('\\n','').split():\n",
        "            ft, val = j.split(':')\n",
        "            feature[i,int(ft)] = float(val)\n",
        "    X = pd.DataFrame(feature)\n",
        "\n",
        "    # extract labels\n",
        "    y = data['labels'].map(lambda x: tuple([int(i) for i in x.replace(' ','').split(',')]))\n",
        "    \n",
        "    return X, y"
      ],
      "execution_count": 0,
      "outputs": []
    },
    {
      "cell_type": "code",
      "metadata": {
        "id": "Kcfudgu5L5FN",
        "colab_type": "code",
        "colab": {}
      },
      "source": [
        "X_train, y_train = load_data(\"train.csv\")\n",
        "X_val, y_val = load_data('dev.csv')"
      ],
      "execution_count": 0,
      "outputs": []
    },
    {
      "cell_type": "code",
      "metadata": {
        "id": "Qh_Lyq7MZLf2",
        "colab_type": "code",
        "outputId": "289bb85e-1b7b-47fd-b48b-76c647377c8e",
        "colab": {
          "base_uri": "https://localhost:8080/",
          "height": 35
        }
      },
      "source": [
        "X_train.shape"
      ],
      "execution_count": 0,
      "outputs": [
        {
          "output_type": "execute_result",
          "data": {
            "text/plain": [
              "(15511, 5000)"
            ]
          },
          "metadata": {
            "tags": []
          },
          "execution_count": 6
        }
      ]
    },
    {
      "cell_type": "code",
      "metadata": {
        "id": "udnXKnnQnt2q",
        "colab_type": "code",
        "colab": {}
      },
      "source": [
        "binarizer = MultiLabelBinarizer()\n",
        "binary_y_train = binarizer.fit_transform(y_train)"
      ],
      "execution_count": 0,
      "outputs": []
    },
    {
      "cell_type": "code",
      "metadata": {
        "id": "83hyI6quqqb9",
        "colab_type": "code",
        "outputId": "70eca7f8-8115-4432-b752-bc85ba5d7b20",
        "colab": {
          "base_uri": "https://localhost:8080/",
          "height": 35
        }
      },
      "source": [
        "binary_y_train.shape"
      ],
      "execution_count": 0,
      "outputs": [
        {
          "output_type": "execute_result",
          "data": {
            "text/plain": [
              "(15511, 3786)"
            ]
          },
          "metadata": {
            "tags": []
          },
          "execution_count": 9
        }
      ]
    },
    {
      "cell_type": "markdown",
      "metadata": {
        "id": "kIHKzm1DDkai",
        "colab_type": "text"
      },
      "source": [
        "## KNN\n"
      ]
    },
    {
      "cell_type": "code",
      "metadata": {
        "id": "ILHhRc6dLmvk",
        "colab_type": "code",
        "outputId": "2ba4ca21-c719-4b7a-e3e0-dd2be32b51d6",
        "colab": {
          "base_uri": "https://localhost:8080/",
          "height": 70
        }
      },
      "source": [
        "from sklearn.neighbors import KNeighborsClassifier\n",
        "import time\n",
        "clf = KNeighborsClassifier(n_neighbors=30)\n",
        "clf.fit(X_train, binary_y_train)"
      ],
      "execution_count": 0,
      "outputs": [
        {
          "output_type": "execute_result",
          "data": {
            "text/plain": [
              "KNeighborsClassifier(algorithm='auto', leaf_size=30, metric='minkowski',\n",
              "                     metric_params=None, n_jobs=None, n_neighbors=30, p=2,\n",
              "                     weights='uniform')"
            ]
          },
          "metadata": {
            "tags": []
          },
          "execution_count": 10
        }
      ]
    },
    {
      "cell_type": "code",
      "metadata": {
        "id": "RZUBVvrhDj5I",
        "colab_type": "code",
        "outputId": "9391cded-1e90-4f4c-e249-8677333980ff",
        "colab": {
          "base_uri": "https://localhost:8080/",
          "height": 90
        }
      },
      "source": [
        "binary_y_val = binarizer.transform(y_val)\n",
        "start_time = time.time()\n",
        "y_val_pred = clf.predict_proba(X_val)\n",
        "end_time = time.time()\n",
        "print('Training time: {}s'.format(end_time - start_time))"
      ],
      "execution_count": 0,
      "outputs": [
        {
          "output_type": "stream",
          "text": [
            "/usr/local/lib/python3.6/dist-packages/sklearn/preprocessing/_label.py:987: UserWarning: unknown class(es) [1171, 1377, 1717, 1724, 1861, 1918, 1936, 2107, 2119, 2122, 2170, 2202, 2209, 2227, 2249, 2267, 2275, 2311, 2312, 2417, 2471, 2515, 2538, 2560, 2576, 2595, 2617, 2626, 2632, 2653, 2654, 2656, 2672, 2736, 2770, 2771, 2781, 2823, 2858, 2936, 2937, 2945, 2946, 2999, 3027, 3078, 3094, 3114, 3126, 3128, 3131, 3169, 3193, 3205, 3218, 3264, 3309, 3343, 3348, 3358, 3366, 3373, 3383, 3401, 3415, 3468, 3471, 3480, 3481, 3482, 3522, 3523, 3530, 3544, 3546, 3587, 3598, 3607, 3654, 3677, 3678, 3681, 3687, 3701, 3711, 3717, 3723, 3724, 3725, 3727, 3728, 3729, 3749, 3752, 3755, 3771, 3832, 3853, 3882, 3885, 3894, 3898, 3903, 3915, 3954, 3969, 3971, 3972, 466, 469, 788] will be ignored\n",
            "  .format(sorted(unknown, key=str)))\n"
          ],
          "name": "stderr"
        },
        {
          "output_type": "stream",
          "text": [
            "Training time: 466.4388473033905s\n"
          ],
          "name": "stdout"
        }
      ]
    },
    {
      "cell_type": "code",
      "metadata": {
        "id": "w_y7LAAech9o",
        "colab_type": "code",
        "outputId": "54c0ff62-3955-4cf7-f6d1-794d2d9973c2",
        "colab": {
          "base_uri": "https://localhost:8080/",
          "height": 35
        }
      },
      "source": [
        "print('LRAP: ', LRAP(binary_y_val, np.swapaxes(np.array(y_val_pred),0,1)[:,:,1]))"
      ],
      "execution_count": 0,
      "outputs": [
        {
          "output_type": "stream",
          "text": [
            "LRAP:  0.3935924858194407\n"
          ],
          "name": "stdout"
        }
      ]
    }
  ]
}