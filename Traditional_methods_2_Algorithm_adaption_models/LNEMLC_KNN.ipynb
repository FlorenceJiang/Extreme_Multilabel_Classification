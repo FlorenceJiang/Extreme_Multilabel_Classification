{
  "nbformat": 4,
  "nbformat_minor": 0,
  "metadata": {
    "colab": {
      "name": "LNEMLC / KNN.ipynb",
      "provenance": [],
      "collapsed_sections": [
        "S1eDmLbkL7lR",
        "ahCufxN3Srml",
        "_A7k3elXRL7S",
        "9mWGqoCnzFTJ",
        "hspvW5dSP8hJ"
      ],
      "machine_shape": "hm"
    },
    "kernelspec": {
      "name": "python3",
      "display_name": "Python 3"
    }
  },
  "cells": [
    {
      "cell_type": "code",
      "metadata": {
        "id": "p6gR24CTzDZw",
        "colab_type": "code",
        "outputId": "e1a60a3d-bd76-4424-e084-8fe73de713f5",
        "colab": {
          "base_uri": "https://localhost:8080/",
          "height": 34
        }
      },
      "source": [
        "from google.colab import drive\n",
        "drive.mount('/content/drive')"
      ],
      "execution_count": 0,
      "outputs": [
        {
          "output_type": "stream",
          "text": [
            "Drive already mounted at /content/drive; to attempt to forcibly remount, call drive.mount(\"/content/drive\", force_remount=True).\n"
          ],
          "name": "stdout"
        }
      ]
    },
    {
      "cell_type": "code",
      "metadata": {
        "id": "J1aHdNDmzJqQ",
        "colab_type": "code",
        "outputId": "f31eaddc-fe35-4526-b10a-e5ba011a18ed",
        "colab": {
          "base_uri": "https://localhost:8080/",
          "height": 34
        }
      },
      "source": [
        "cd /content/drive/My\\ Drive/1003\\ Machine Learning/1003\\ Project/Data"
      ],
      "execution_count": 0,
      "outputs": [
        {
          "output_type": "stream",
          "text": [
            "/content/drive/.shortcut-targets-by-id/1cXJSX-Wb546Od-de-PxfpA-IOtl_oV-Q/1003 Project/Data\n"
          ],
          "name": "stdout"
        }
      ]
    },
    {
      "cell_type": "markdown",
      "metadata": {
        "id": "S1eDmLbkL7lR",
        "colab_type": "text"
      },
      "source": [
        "# Load data\n",
        "\n",
        "Code in this part credit to Man Jin: mj1637@nyu.edu\n"
      ]
    },
    {
      "cell_type": "code",
      "metadata": {
        "id": "ssVS0uM7L7Pl",
        "colab_type": "code",
        "colab": {}
      },
      "source": [
        "import pandas as pd\n",
        "import numpy as np\n",
        "from tqdm.notebook import tqdm\n",
        "from sklearn.preprocessing import MultiLabelBinarizer"
      ],
      "execution_count": 0,
      "outputs": []
    },
    {
      "cell_type": "code",
      "metadata": {
        "id": "e8qeGsGZXCYE",
        "colab_type": "code",
        "colab": {}
      },
      "source": [
        "def load_data(file_name):\n",
        "\n",
        "    # load data from csv\n",
        "    data = pd.read_csv(file_name, usecols=['labels', 'features'])\n",
        "\n",
        "    # remove rows without proper label\n",
        "    rows_to_remove = [i for i in range(len(data)) if ':' in data.loc[i,'labels']]\n",
        "    data.drop(rows_to_remove, inplace=True)\n",
        "    data.reset_index(drop=True, inplace=True)\n",
        "\n",
        "    # extract features from sparse representation\n",
        "    feature = np.zeros((len(data), 5000))\n",
        "    for i in range(len(data)):\n",
        "        for j in data.loc[i,'features'].replace('\\n','').split():\n",
        "            ft, val = j.split(':')\n",
        "            feature[i,int(ft)] = float(val)\n",
        "    X = pd.DataFrame(feature)\n",
        "\n",
        "    # extract labels\n",
        "    y = data['labels'].map(lambda x: tuple([int(i) for i in x.replace(' ','').split(',')]))\n",
        "    \n",
        "    return X, y"
      ],
      "execution_count": 0,
      "outputs": []
    },
    {
      "cell_type": "code",
      "metadata": {
        "id": "Kcfudgu5L5FN",
        "colab_type": "code",
        "colab": {}
      },
      "source": [
        "X_train, y_train = load_data(\"train.csv\")\n",
        "X_val, y_val = load_data('test.csv')"
      ],
      "execution_count": 0,
      "outputs": []
    },
    {
      "cell_type": "code",
      "metadata": {
        "id": "H01gqAmbUkUv",
        "colab_type": "code",
        "outputId": "4ba7088d-d114-4987-ebce-11346a96d3b4",
        "colab": {
          "base_uri": "https://localhost:8080/",
          "height": 102
        }
      },
      "source": [
        "# Let's examine multi-labelness.\n",
        "m,n = X_train.shape\n",
        "q = max([label for y_i in y_train for label in y_i ])\n",
        "lCard = sum([len(y_train[i]) for i in range(m)])/m\n",
        "lDen = lCard/q\n",
        "\n",
        "print(\"m,n=\", (m,n))\n",
        "print(\"q=|y|=\", q)\n",
        "print(\"label diversity:\", len(np.unique(y_train)))\n",
        "print(\"label cardinality:\", lCard)\n",
        "print(\"label density:\", lDen)"
      ],
      "execution_count": 0,
      "outputs": [
        {
          "output_type": "stream",
          "text": [
            "m,n= (15511, 5000)\n",
            "q=|y|= 3992\n",
            "label diversity: 13543\n",
            "label cardinality: 5.320740119914899\n",
            "label density: 0.001332850731441608\n"
          ],
          "name": "stdout"
        }
      ]
    },
    {
      "cell_type": "code",
      "metadata": {
        "id": "udnXKnnQnt2q",
        "colab_type": "code",
        "colab": {}
      },
      "source": [
        "# # if needed\n",
        "binarizer = MultiLabelBinarizer(classes=np.arange(3993))\n",
        "binary_y_train = binarizer.fit_transform(y_train)\n",
        "binary_y_val = binarizer.fit_transform(y_val)"
      ],
      "execution_count": 0,
      "outputs": []
    },
    {
      "cell_type": "code",
      "metadata": {
        "id": "TS0Z-78HmXb-",
        "colab_type": "code",
        "colab": {}
      },
      "source": [
        "X_train_small, binary_y_train_small = X_train[:1000], binary_y_train[:1000]\n",
        "X_val_small, binary_y_val_small = X_val[:250], binary_y_val[:250]"
      ],
      "execution_count": 0,
      "outputs": []
    },
    {
      "cell_type": "markdown",
      "metadata": {
        "id": "_A7k3elXRL7S",
        "colab_type": "text"
      },
      "source": [
        "# Multi-label Decision Tree"
      ]
    },
    {
      "cell_type": "code",
      "metadata": {
        "id": "e_3ys6VldUf9",
        "colab_type": "code",
        "colab": {}
      },
      "source": [
        "from sklearn.tree import DecisionTreeClassifier\n",
        "import time\n",
        "start_time = time.time()\n",
        "clf = DecisionTreeClassifier(random_state=0)\n",
        "clf.fit(X_train, binary_y_train)\n",
        "print(time.time() - start_time)"
      ],
      "execution_count": 0,
      "outputs": []
    },
    {
      "cell_type": "code",
      "metadata": {
        "id": "vaLs2MROlPfW",
        "colab_type": "code",
        "colab": {}
      },
      "source": [
        "binarizer.inverse_transform(clf.predict(X_val)[0:5])"
      ],
      "execution_count": 0,
      "outputs": []
    },
    {
      "cell_type": "code",
      "metadata": {
        "id": "YwpYYNRDohnr",
        "colab_type": "code",
        "colab": {}
      },
      "source": [
        "y_val[0:5]"
      ],
      "execution_count": 0,
      "outputs": []
    },
    {
      "cell_type": "markdown",
      "metadata": {
        "id": "9mWGqoCnzFTJ",
        "colab_type": "text"
      },
      "source": [
        "# Multi-label KNN"
      ]
    },
    {
      "cell_type": "code",
      "metadata": {
        "id": "Yz5lAaCOX1go",
        "colab_type": "code",
        "outputId": "5bc05d1a-d1f7-4559-e8cd-cab21e2661ac",
        "colab": {
          "base_uri": "https://localhost:8080/",
          "height": 122
        }
      },
      "source": [
        "!pip install scikit-multilearn"
      ],
      "execution_count": 0,
      "outputs": [
        {
          "output_type": "stream",
          "text": [
            "Collecting scikit-multilearn\n",
            "\u001b[?25l  Downloading https://files.pythonhosted.org/packages/bb/1f/e6ff649c72a1cdf2c7a1d31eb21705110ce1c5d3e7e26b2cc300e1637272/scikit_multilearn-0.2.0-py3-none-any.whl (89kB)\n",
            "\r\u001b[K     |███▊                            | 10kB 20.1MB/s eta 0:00:01\r\u001b[K     |███████▍                        | 20kB 5.5MB/s eta 0:00:01\r\u001b[K     |███████████                     | 30kB 5.4MB/s eta 0:00:01\r\u001b[K     |██████████████▊                 | 40kB 6.3MB/s eta 0:00:01\r\u001b[K     |██████████████████▍             | 51kB 6.1MB/s eta 0:00:01\r\u001b[K     |██████████████████████          | 61kB 7.0MB/s eta 0:00:01\r\u001b[K     |█████████████████████████▊      | 71kB 6.3MB/s eta 0:00:01\r\u001b[K     |█████████████████████████████▍  | 81kB 6.1MB/s eta 0:00:01\r\u001b[K     |████████████████████████████████| 92kB 4.2MB/s \n",
            "\u001b[?25hInstalling collected packages: scikit-multilearn\n",
            "Successfully installed scikit-multilearn-0.2.0\n"
          ],
          "name": "stdout"
        }
      ]
    },
    {
      "cell_type": "code",
      "metadata": {
        "id": "ARHLoxh_zEwW",
        "colab_type": "code",
        "outputId": "a79efcfa-3915-410f-bd35-3df8c38fd698",
        "colab": {
          "base_uri": "https://localhost:8080/",
          "height": 34
        }
      },
      "source": [
        "from skmultilearn.adapt import MLkNN\n",
        "from sklearn.model_selection import GridSearchCV\n",
        "import time \n",
        "\n",
        "s_time = time.time()\n",
        "knn_clf = MLkNN(k=30, s=1.0, ignore_first_neighbours=0)\n",
        "knn_clf.fit(X_train_small, binary_y_train_small)\n",
        "print(time.time()-s_time)"
      ],
      "execution_count": 0,
      "outputs": [
        {
          "output_type": "stream",
          "text": [
            "130.86086583137512\n"
          ],
          "name": "stdout"
        }
      ]
    },
    {
      "cell_type": "code",
      "metadata": {
        "id": "JXXPvs33xa4R",
        "colab_type": "code",
        "outputId": "057ca2c8-f8b0-43dc-94fe-b3ba4f2ab073",
        "colab": {
          "base_uri": "https://localhost:8080/",
          "height": 34
        }
      },
      "source": [
        "# binary_y_val_small = binarizer.transform(y_val_small)\n",
        "from sklearn.metrics import label_ranking_average_precision_score as LRAP\n",
        "\n",
        "y_val_pred = knn_clf.predict_proba(X_val_small)\n",
        "print('LRAP: ', LRAP(binary_y_val_small, y_val_pred.toarray()))"
      ],
      "execution_count": 0,
      "outputs": [
        {
          "output_type": "stream",
          "text": [
            "LRAP:  0.07931521277677434\n"
          ],
          "name": "stdout"
        }
      ]
    },
    {
      "cell_type": "markdown",
      "metadata": {
        "id": "hspvW5dSP8hJ",
        "colab_type": "text"
      },
      "source": [
        "# Rank SVM\n",
        "\n",
        "Here we use a twin SVM adapted from this paper in 2016:\n",
        "https://www.sciencedirect.com/science/article/abs/pii/S0031320315003751 "
      ]
    },
    {
      "cell_type": "code",
      "metadata": {
        "id": "CF81wYg0NTgH",
        "colab_type": "code",
        "outputId": "82a4d1f1-85fb-44ae-df72-77db0485199d",
        "colab": {
          "base_uri": "https://localhost:8080/",
          "height": 34
        }
      },
      "source": [
        "type(X_train_small.values)"
      ],
      "execution_count": 0,
      "outputs": [
        {
          "output_type": "execute_result",
          "data": {
            "text/plain": [
              "numpy.ndarray"
            ]
          },
          "metadata": {
            "tags": []
          },
          "execution_count": 59
        }
      ]
    },
    {
      "cell_type": "code",
      "metadata": {
        "id": "T7YexNfIQDpv",
        "colab_type": "code",
        "colab": {}
      },
      "source": [
        "# from skmultilearn.adapt import MLTSVM\n",
        "import time \n",
        "\n",
        "s_time = time.time()\n",
        "svm_clf = MLTSVM(c_k = 2**-1)\n",
        "svm_clf.fit(X_train_small.values, binary_y_train_small)\n",
        "print(time.time()-s_time)"
      ],
      "execution_count": 0,
      "outputs": []
    },
    {
      "cell_type": "code",
      "metadata": {
        "colab_type": "code",
        "id": "kTVYI4DTOjd-",
        "colab": {}
      },
      "source": [
        "# pred\n",
        "y_pred = svm_clf.predict(X_val)\n",
        "y_pred_ = binarizer.inverse_transform(y_pred)"
      ],
      "execution_count": 0,
      "outputs": []
    },
    {
      "cell_type": "code",
      "metadata": {
        "colab_type": "code",
        "outputId": "450e2ebe-0836-405f-def4-9ddb09fb41a4",
        "id": "LpNzDvJlOjeD",
        "colab": {
          "base_uri": "https://localhost:8080/",
          "height": 34
        }
      },
      "source": [
        "binarizer.fit_transform(y_val).shape"
      ],
      "execution_count": 0,
      "outputs": [
        {
          "output_type": "execute_result",
          "data": {
            "text/plain": [
              "(2489, 3993)"
            ]
          },
          "metadata": {
            "tags": []
          },
          "execution_count": 44
        }
      ]
    },
    {
      "cell_type": "code",
      "metadata": {
        "colab_type": "code",
        "outputId": "21a77260-a4e0-4a74-be0b-65ef500af2f6",
        "id": "sCMDMIzIOjeG",
        "colab": {
          "base_uri": "https://localhost:8080/",
          "height": 34
        }
      },
      "source": [
        "import sklearn.metrics as metrics\n",
        "\n",
        "print(metrics.label_ranking_average_precision_score(binarizer.fit_transform(y_val), \n",
        "                                                    binarizer.fit_transform(y_pred_)))"
      ],
      "execution_count": 0,
      "outputs": [
        {
          "output_type": "stream",
          "text": [
            "0.052771879688835586\n"
          ],
          "name": "stdout"
        }
      ]
    },
    {
      "cell_type": "markdown",
      "metadata": {
        "id": "OqfkA197QEZr",
        "colab_type": "text"
      },
      "source": [
        "# Label Space Embedding: LNEMLC"
      ]
    },
    {
      "cell_type": "markdown",
      "metadata": {
        "id": "90vMlFZrQ28a",
        "colab_type": "text"
      },
      "source": [
        "Reference: https://arxiv.org/abs/1812.02956 \n",
        "\n",
        "\n",
        "Most approaches on multi-label classification focus on effective adaptation or transformation of existing binary and multi-class learning approaches but fail in modelling the joint probability of labels or do not preserve generalization abilities for unseen label combinations. To address these issues we propose a new multi-label classification scheme, LNEMLC - Label Network Embedding for Multi-Label Classification, that embeds the label network and uses it to extend input space in learning and inference of any base multi-label classifier. The approach allows capturing of labels' joint probability at low computational complexity providing results comparable to the best methods reported in the literature. We demonstrate how the method reveals statistically significant improvements over the simple kNN baseline classifier. We also provide hints for selecting the robust configuration that works satisfactorily across data domains."
      ]
    },
    {
      "cell_type": "code",
      "metadata": {
        "id": "aQfm9XRlQHU5",
        "colab_type": "code",
        "outputId": "81d867cc-c547-462a-f7d0-04af9bad5d00",
        "colab": {
          "base_uri": "https://localhost:8080/",
          "height": 34
        }
      },
      "source": [
        "!pip install scikit-multilearn"
      ],
      "execution_count": 0,
      "outputs": [
        {
          "output_type": "stream",
          "text": [
            "Requirement already satisfied: scikit-multilearn in /usr/local/lib/python3.6/dist-packages (0.2.0)\n"
          ],
          "name": "stdout"
        }
      ]
    },
    {
      "cell_type": "code",
      "metadata": {
        "id": "NmjLdm5S2ym4",
        "colab_type": "code",
        "outputId": "0314a68c-aba2-4259-c799-575a5a624eee",
        "colab": {
          "base_uri": "https://localhost:8080/",
          "height": 51
        }
      },
      "source": [
        "# # install openne\n",
        "# !git clone https://github.com/thunlp/OpenNE.git\n",
        "# !pip install -r requirements.txt"
      ],
      "execution_count": 0,
      "outputs": [
        {
          "output_type": "stream",
          "text": [
            "fatal: destination path 'OpenNE' already exists and is not an empty directory.\n",
            "\u001b[31mERROR: Could not open requirements file: [Errno 2] No such file or directory: 'requirements.txt'\u001b[0m\n"
          ],
          "name": "stdout"
        }
      ]
    },
    {
      "cell_type": "code",
      "metadata": {
        "id": "9Zb_Gwu73ISv",
        "colab_type": "code",
        "outputId": "e5661ca9-654b-40b5-c39e-b88275869546",
        "colab": {
          "base_uri": "https://localhost:8080/",
          "height": 34
        }
      },
      "source": [
        "cd OpenNE/src"
      ],
      "execution_count": 0,
      "outputs": [
        {
          "output_type": "stream",
          "text": [
            "/content/drive/.shortcut-targets-by-id/1cXJSX-Wb546Od-de-PxfpA-IOtl_oV-Q/1003 Project/Data/OpenNE/src\n"
          ],
          "name": "stdout"
        }
      ]
    },
    {
      "cell_type": "code",
      "metadata": {
        "id": "Vnkdwomj3cAS",
        "colab_type": "code",
        "outputId": "430242a1-cf3d-4bf6-dd47-2eab93a39abb",
        "colab": {
          "base_uri": "https://localhost:8080/",
          "height": 1000
        }
      },
      "source": [
        "!python setup.py install"
      ],
      "execution_count": 0,
      "outputs": [
        {
          "output_type": "stream",
          "text": [
            "running install\n",
            "running bdist_egg\n",
            "running egg_info\n",
            "writing openne.egg-info/PKG-INFO\n",
            "writing dependency_links to openne.egg-info/dependency_links.txt\n",
            "writing top-level names to openne.egg-info/top_level.txt\n",
            "writing manifest file 'openne.egg-info/SOURCES.txt'\n",
            "installing library code to build/bdist.linux-x86_64/egg\n",
            "running install_lib\n",
            "running build_py\n",
            "creating build/bdist.linux-x86_64/egg\n",
            "creating build/bdist.linux-x86_64/egg/openne\n",
            "copying build/lib/openne/hope.py -> build/bdist.linux-x86_64/egg/openne\n",
            "copying build/lib/openne/classify.py -> build/bdist.linux-x86_64/egg/openne\n",
            "copying build/lib/openne/__init__.py -> build/bdist.linux-x86_64/egg/openne\n",
            "copying build/lib/openne/walker.py -> build/bdist.linux-x86_64/egg/openne\n",
            "copying build/lib/openne/sdne.py -> build/bdist.linux-x86_64/egg/openne\n",
            "copying build/lib/openne/lap.py -> build/bdist.linux-x86_64/egg/openne\n",
            "copying build/lib/openne/grarep.py -> build/bdist.linux-x86_64/egg/openne\n",
            "copying build/lib/openne/node2vec.py -> build/bdist.linux-x86_64/egg/openne\n",
            "copying build/lib/openne/gf.py -> build/bdist.linux-x86_64/egg/openne\n",
            "copying build/lib/openne/line.py -> build/bdist.linux-x86_64/egg/openne\n",
            "copying build/lib/openne/tadw.py -> build/bdist.linux-x86_64/egg/openne\n",
            "copying build/lib/openne/lle.py -> build/bdist.linux-x86_64/egg/openne\n",
            "copying build/lib/openne/graph.py -> build/bdist.linux-x86_64/egg/openne\n",
            "copying build/lib/openne/__main__.py -> build/bdist.linux-x86_64/egg/openne\n",
            "creating build/bdist.linux-x86_64/egg/openne/gcn\n",
            "copying build/lib/openne/gcn/__init__.py -> build/bdist.linux-x86_64/egg/openne/gcn\n",
            "copying build/lib/openne/gcn/train.py -> build/bdist.linux-x86_64/egg/openne/gcn\n",
            "copying build/lib/openne/gcn/metrics.py -> build/bdist.linux-x86_64/egg/openne/gcn\n",
            "copying build/lib/openne/gcn/layers.py -> build/bdist.linux-x86_64/egg/openne/gcn\n",
            "copying build/lib/openne/gcn/gcnAPI.py -> build/bdist.linux-x86_64/egg/openne/gcn\n",
            "copying build/lib/openne/gcn/inits.py -> build/bdist.linux-x86_64/egg/openne/gcn\n",
            "copying build/lib/openne/gcn/utils.py -> build/bdist.linux-x86_64/egg/openne/gcn\n",
            "copying build/lib/openne/gcn/models.py -> build/bdist.linux-x86_64/egg/openne/gcn\n",
            "byte-compiling build/bdist.linux-x86_64/egg/openne/hope.py to hope.cpython-36.pyc\n",
            "byte-compiling build/bdist.linux-x86_64/egg/openne/classify.py to classify.cpython-36.pyc\n",
            "byte-compiling build/bdist.linux-x86_64/egg/openne/__init__.py to __init__.cpython-36.pyc\n",
            "byte-compiling build/bdist.linux-x86_64/egg/openne/walker.py to walker.cpython-36.pyc\n",
            "byte-compiling build/bdist.linux-x86_64/egg/openne/sdne.py to sdne.cpython-36.pyc\n",
            "byte-compiling build/bdist.linux-x86_64/egg/openne/lap.py to lap.cpython-36.pyc\n",
            "byte-compiling build/bdist.linux-x86_64/egg/openne/grarep.py to grarep.cpython-36.pyc\n",
            "byte-compiling build/bdist.linux-x86_64/egg/openne/node2vec.py to node2vec.cpython-36.pyc\n",
            "byte-compiling build/bdist.linux-x86_64/egg/openne/gf.py to gf.cpython-36.pyc\n",
            "byte-compiling build/bdist.linux-x86_64/egg/openne/line.py to line.cpython-36.pyc\n",
            "byte-compiling build/bdist.linux-x86_64/egg/openne/tadw.py to tadw.cpython-36.pyc\n",
            "byte-compiling build/bdist.linux-x86_64/egg/openne/lle.py to lle.cpython-36.pyc\n",
            "byte-compiling build/bdist.linux-x86_64/egg/openne/graph.py to graph.cpython-36.pyc\n",
            "byte-compiling build/bdist.linux-x86_64/egg/openne/__main__.py to __main__.cpython-36.pyc\n",
            "byte-compiling build/bdist.linux-x86_64/egg/openne/gcn/__init__.py to __init__.cpython-36.pyc\n",
            "byte-compiling build/bdist.linux-x86_64/egg/openne/gcn/train.py to train.cpython-36.pyc\n",
            "byte-compiling build/bdist.linux-x86_64/egg/openne/gcn/metrics.py to metrics.cpython-36.pyc\n",
            "byte-compiling build/bdist.linux-x86_64/egg/openne/gcn/layers.py to layers.cpython-36.pyc\n",
            "byte-compiling build/bdist.linux-x86_64/egg/openne/gcn/gcnAPI.py to gcnAPI.cpython-36.pyc\n",
            "byte-compiling build/bdist.linux-x86_64/egg/openne/gcn/inits.py to inits.cpython-36.pyc\n",
            "byte-compiling build/bdist.linux-x86_64/egg/openne/gcn/utils.py to utils.cpython-36.pyc\n",
            "byte-compiling build/bdist.linux-x86_64/egg/openne/gcn/models.py to models.cpython-36.pyc\n",
            "creating build/bdist.linux-x86_64/egg/EGG-INFO\n",
            "copying openne.egg-info/PKG-INFO -> build/bdist.linux-x86_64/egg/EGG-INFO\n",
            "copying openne.egg-info/SOURCES.txt -> build/bdist.linux-x86_64/egg/EGG-INFO\n",
            "copying openne.egg-info/dependency_links.txt -> build/bdist.linux-x86_64/egg/EGG-INFO\n",
            "copying openne.egg-info/not-zip-safe -> build/bdist.linux-x86_64/egg/EGG-INFO\n",
            "copying openne.egg-info/top_level.txt -> build/bdist.linux-x86_64/egg/EGG-INFO\n",
            "creating 'dist/openne-0.0.0-py3.6.egg' and adding 'build/bdist.linux-x86_64/egg' to it\n",
            "removing 'build/bdist.linux-x86_64/egg' (and everything under it)\n",
            "Processing openne-0.0.0-py3.6.egg\n",
            "removing '/usr/local/lib/python3.6/dist-packages/openne-0.0.0-py3.6.egg' (and everything under it)\n",
            "creating /usr/local/lib/python3.6/dist-packages/openne-0.0.0-py3.6.egg\n",
            "Extracting openne-0.0.0-py3.6.egg to /usr/local/lib/python3.6/dist-packages\n",
            "openne 0.0.0 is already the active version in easy-install.pth\n",
            "\n",
            "Installed /usr/local/lib/python3.6/dist-packages/openne-0.0.0-py3.6.egg\n",
            "Processing dependencies for openne==0.0.0\n",
            "Finished processing dependencies for openne==0.0.0\n"
          ],
          "name": "stdout"
        }
      ]
    },
    {
      "cell_type": "code",
      "metadata": {
        "id": "wyP5muLNzv3P",
        "colab_type": "code",
        "outputId": "2098fe57-10df-4b34-d9ac-04ddcbfd03e4",
        "colab": {
          "base_uri": "https://localhost:8080/",
          "height": 51
        }
      },
      "source": [
        "from skmultilearn.embedding import SKLearnEmbedder, EmbeddingClassifier\n",
        "from sklearn.manifold import SpectralEmbedding\n",
        "from sklearn.ensemble import RandomForestRegressor\n",
        "from skmultilearn.adapt import MLkNN\n",
        "import time\n",
        "\n",
        "clf = EmbeddingClassifier(\n",
        "    SKLearnEmbedder(SpectralEmbedding(n_components = 100)),\n",
        "    RandomForestRegressor(n_estimators=10),\n",
        "    MLkNN(k=10)\n",
        ")\n",
        "\n",
        "start_time = time.time()\n",
        "clf.fit(X_train, binary_y_train)\n",
        "print(\"Training time is {}\".format(time.time()-start_time))\n",
        "predictions = clf.predict_proba(X_val)\n",
        "\n",
        "# calculate lrap\n",
        "import numpy as np\n",
        "from sklearn.metrics import label_ranking_average_precision_score\n",
        "\n",
        "label_ranking_average_precision_score(binary_y_val, predictions.toarray())"
      ],
      "execution_count": 0,
      "outputs": [
        {
          "output_type": "stream",
          "text": [
            "Training time is 7213.777302265167\n"
          ],
          "name": "stdout"
        },
        {
          "output_type": "execute_result",
          "data": {
            "text/plain": [
              "0.2009070404066415"
            ]
          },
          "metadata": {
            "tags": []
          },
          "execution_count": 19
        }
      ]
    },
    {
      "cell_type": "code",
      "metadata": {
        "id": "ytMV3KDb4hN0",
        "colab_type": "code",
        "outputId": "8053e9d9-20f0-40da-de67-841f747a0ae3",
        "colab": {
          "base_uri": "https://localhost:8080/",
          "height": 34
        }
      },
      "source": [
        ""
      ],
      "execution_count": 0,
      "outputs": [
        {
          "output_type": "execute_result",
          "data": {
            "text/plain": [
              "0.09628422715943351"
            ]
          },
          "metadata": {
            "tags": []
          },
          "execution_count": 15
        }
      ]
    },
    {
      "cell_type": "code",
      "metadata": {
        "id": "-mKX3Rha5PA3",
        "colab_type": "code",
        "outputId": "cf71bb64-7e03-4205-8195-901c4b8eb72e",
        "colab": {
          "base_uri": "https://localhost:8080/",
          "height": 1000
        }
      },
      "source": [
        "# fine tuning\n",
        "\n",
        "n_components_vals = [10, 50, 100, 150, 200]\n",
        "n_estimators_vals = [10, 50, 100, 150, 200]\n",
        "knn_vals = [5, 10, 20, 30 ,50]\n",
        "\n",
        "for a in n_components_vals:\n",
        "    for b in n_estimators_vals:\n",
        "        for c in knn_vals:\n",
        "            clf = EmbeddingClassifier(SKLearnEmbedder(SpectralEmbedding(n_components = 100)),\n",
        "                                      RandomForestRegressor(n_estimators=100),\n",
        "                                      MLkNN(k=10))\n",
        "            start_time = time.time()\n",
        "            clf.fit(X_train_small, binary_y_train_small)\n",
        "            print(\"n_component for embedding:{}, n_trees_in_rf:{}, knn_k:{}\".format(a,b,c))\n",
        "            print(\"Training time: {}\".format(time.time()-start_time))\n",
        "            predictions = clf.predict(X_val_small)\n",
        "            print(\"Evaluating lrap: {}\".format(label_ranking_average_precision_score(binary_y_val_small, predictions.toarray())))"
      ],
      "execution_count": 0,
      "outputs": [
        {
          "output_type": "stream",
          "text": [
            "n_component for embedding:10, n_trees_in_rf:10, knn_k:5\n",
            "Training time: 383.17239594459534\n",
            "Evaluating lrap: 0.05401250879515343\n",
            "n_component for embedding:10, n_trees_in_rf:10, knn_k:10\n",
            "Training time: 378.3155310153961\n",
            "Evaluating lrap: 0.05401250879515343\n",
            "n_component for embedding:10, n_trees_in_rf:10, knn_k:20\n",
            "Training time: 383.9575204849243\n",
            "Evaluating lrap: 0.05401250879515343\n",
            "n_component for embedding:10, n_trees_in_rf:10, knn_k:30\n",
            "Training time: 380.64761781692505\n",
            "Evaluating lrap: 0.05401250879515343\n",
            "n_component for embedding:10, n_trees_in_rf:10, knn_k:50\n",
            "Training time: 381.0272285938263\n",
            "Evaluating lrap: 0.05401250879515343\n",
            "n_component for embedding:10, n_trees_in_rf:50, knn_k:5\n",
            "Training time: 388.5618441104889\n",
            "Evaluating lrap: 0.05401250879515343\n",
            "n_component for embedding:10, n_trees_in_rf:50, knn_k:10\n",
            "Training time: 388.84656524658203\n",
            "Evaluating lrap: 0.05401250879515343\n",
            "n_component for embedding:10, n_trees_in_rf:50, knn_k:20\n",
            "Training time: 390.4758560657501\n",
            "Evaluating lrap: 0.05401250879515343\n",
            "n_component for embedding:10, n_trees_in_rf:50, knn_k:30\n",
            "Training time: 384.2331449985504\n",
            "Evaluating lrap: 0.05401250879515343\n",
            "n_component for embedding:10, n_trees_in_rf:50, knn_k:50\n",
            "Training time: 375.9284026622772\n",
            "Evaluating lrap: 0.05401250879515343\n",
            "n_component for embedding:10, n_trees_in_rf:100, knn_k:5\n",
            "Training time: 380.8127796649933\n",
            "Evaluating lrap: 0.05401250879515343\n",
            "n_component for embedding:10, n_trees_in_rf:100, knn_k:10\n",
            "Training time: 386.0949101448059\n",
            "Evaluating lrap: 0.05401250879515343\n",
            "n_component for embedding:10, n_trees_in_rf:100, knn_k:20\n",
            "Training time: 392.7167880535126\n",
            "Evaluating lrap: 0.05401250879515343\n",
            "n_component for embedding:10, n_trees_in_rf:100, knn_k:30\n",
            "Training time: 371.0978629589081\n",
            "Evaluating lrap: 0.05401250879515343\n",
            "n_component for embedding:10, n_trees_in_rf:100, knn_k:50\n",
            "Training time: 382.34008526802063\n",
            "Evaluating lrap: 0.05401250879515343\n",
            "n_component for embedding:10, n_trees_in_rf:150, knn_k:5\n",
            "Training time: 382.2953233718872\n",
            "Evaluating lrap: 0.05401250879515343\n",
            "n_component for embedding:10, n_trees_in_rf:150, knn_k:10\n",
            "Training time: 389.73543524742126\n",
            "Evaluating lrap: 0.05401250879515343\n",
            "n_component for embedding:10, n_trees_in_rf:150, knn_k:20\n",
            "Training time: 389.6525638103485\n",
            "Evaluating lrap: 0.05401250879515343\n",
            "n_component for embedding:10, n_trees_in_rf:150, knn_k:30\n",
            "Training time: 379.1224730014801\n",
            "Evaluating lrap: 0.05401250879515343\n",
            "n_component for embedding:10, n_trees_in_rf:150, knn_k:50\n",
            "Training time: 384.61708664894104\n",
            "Evaluating lrap: 0.05401250879515343\n",
            "n_component for embedding:10, n_trees_in_rf:200, knn_k:5\n",
            "Training time: 392.0736300945282\n",
            "Evaluating lrap: 0.05401250879515343\n",
            "n_component for embedding:10, n_trees_in_rf:200, knn_k:10\n",
            "Training time: 385.33960127830505\n",
            "Evaluating lrap: 0.05401250879515343\n",
            "n_component for embedding:10, n_trees_in_rf:200, knn_k:20\n",
            "Training time: 374.7448740005493\n",
            "Evaluating lrap: 0.05401250879515343\n",
            "n_component for embedding:10, n_trees_in_rf:200, knn_k:30\n",
            "Training time: 378.1756112575531\n",
            "Evaluating lrap: 0.05401250879515343\n",
            "n_component for embedding:10, n_trees_in_rf:200, knn_k:50\n",
            "Training time: 385.1357843875885\n",
            "Evaluating lrap: 0.05401250879515343\n",
            "n_component for embedding:50, n_trees_in_rf:10, knn_k:5\n",
            "Training time: 380.76249289512634\n",
            "Evaluating lrap: 0.05401250879515343\n",
            "n_component for embedding:50, n_trees_in_rf:10, knn_k:10\n",
            "Training time: 388.86542654037476\n",
            "Evaluating lrap: 0.05401250879515343\n",
            "n_component for embedding:50, n_trees_in_rf:10, knn_k:20\n",
            "Training time: 376.3276870250702\n",
            "Evaluating lrap: 0.05401250879515343\n",
            "n_component for embedding:50, n_trees_in_rf:10, knn_k:30\n",
            "Training time: 366.71427607536316\n",
            "Evaluating lrap: 0.05401250879515343\n",
            "n_component for embedding:50, n_trees_in_rf:10, knn_k:50\n",
            "Training time: 372.42285799980164\n",
            "Evaluating lrap: 0.05401250879515343\n",
            "n_component for embedding:50, n_trees_in_rf:50, knn_k:5\n",
            "Training time: 370.9625608921051\n",
            "Evaluating lrap: 0.05401250879515343\n",
            "n_component for embedding:50, n_trees_in_rf:50, knn_k:10\n",
            "Training time: 372.5174171924591\n",
            "Evaluating lrap: 0.05401250879515343\n",
            "n_component for embedding:50, n_trees_in_rf:50, knn_k:20\n",
            "Training time: 375.88396191596985\n",
            "Evaluating lrap: 0.05401250879515343\n",
            "n_component for embedding:50, n_trees_in_rf:50, knn_k:30\n",
            "Training time: 382.020060300827\n",
            "Evaluating lrap: 0.05401250879515343\n",
            "n_component for embedding:50, n_trees_in_rf:50, knn_k:50\n",
            "Training time: 374.8991734981537\n",
            "Evaluating lrap: 0.05401250879515343\n",
            "n_component for embedding:50, n_trees_in_rf:100, knn_k:5\n",
            "Training time: 362.83653378486633\n",
            "Evaluating lrap: 0.05401250879515343\n",
            "n_component for embedding:50, n_trees_in_rf:100, knn_k:10\n",
            "Training time: 359.7844841480255\n",
            "Evaluating lrap: 0.05401250879515343\n",
            "n_component for embedding:50, n_trees_in_rf:100, knn_k:20\n",
            "Training time: 366.1548767089844\n",
            "Evaluating lrap: 0.05401250879515343\n",
            "n_component for embedding:50, n_trees_in_rf:100, knn_k:30\n",
            "Training time: 362.77523159980774\n",
            "Evaluating lrap: 0.05401250879515343\n",
            "n_component for embedding:50, n_trees_in_rf:100, knn_k:50\n",
            "Training time: 374.41229820251465\n",
            "Evaluating lrap: 0.05401250879515343\n",
            "n_component for embedding:50, n_trees_in_rf:150, knn_k:5\n",
            "Training time: 398.2003560066223\n",
            "Evaluating lrap: 0.05401250879515343\n",
            "n_component for embedding:50, n_trees_in_rf:150, knn_k:10\n",
            "Training time: 377.5961983203888\n",
            "Evaluating lrap: 0.05401250879515343\n",
            "n_component for embedding:50, n_trees_in_rf:150, knn_k:20\n",
            "Training time: 371.8844394683838\n",
            "Evaluating lrap: 0.05401250879515343\n",
            "n_component for embedding:50, n_trees_in_rf:150, knn_k:30\n",
            "Training time: 384.2717761993408\n",
            "Evaluating lrap: 0.05401250879515343\n",
            "n_component for embedding:50, n_trees_in_rf:150, knn_k:50\n",
            "Training time: 393.2894673347473\n",
            "Evaluating lrap: 0.05401250879515343\n",
            "n_component for embedding:50, n_trees_in_rf:200, knn_k:5\n",
            "Training time: 391.6118531227112\n",
            "Evaluating lrap: 0.05401250879515343\n",
            "n_component for embedding:50, n_trees_in_rf:200, knn_k:10\n",
            "Training time: 400.00655126571655\n",
            "Evaluating lrap: 0.05401250879515343\n",
            "n_component for embedding:50, n_trees_in_rf:200, knn_k:20\n",
            "Training time: 404.07217478752136\n",
            "Evaluating lrap: 0.05401250879515343\n",
            "n_component for embedding:50, n_trees_in_rf:200, knn_k:30\n",
            "Training time: 394.9004397392273\n",
            "Evaluating lrap: 0.05401250879515343\n",
            "n_component for embedding:50, n_trees_in_rf:200, knn_k:50\n",
            "Training time: 400.8945906162262\n",
            "Evaluating lrap: 0.05401250879515343\n",
            "n_component for embedding:100, n_trees_in_rf:10, knn_k:5\n",
            "Training time: 409.0837426185608\n",
            "Evaluating lrap: 0.05401250879515343\n",
            "n_component for embedding:100, n_trees_in_rf:10, knn_k:10\n",
            "Training time: 398.7853932380676\n",
            "Evaluating lrap: 0.05401250879515343\n",
            "n_component for embedding:100, n_trees_in_rf:10, knn_k:20\n",
            "Training time: 395.5843288898468\n",
            "Evaluating lrap: 0.05401250879515343\n",
            "n_component for embedding:100, n_trees_in_rf:10, knn_k:30\n",
            "Training time: 399.09223651885986\n",
            "Evaluating lrap: 0.05401250879515343\n",
            "n_component for embedding:100, n_trees_in_rf:10, knn_k:50\n",
            "Training time: 400.2832524776459\n",
            "Evaluating lrap: 0.05401250879515343\n",
            "n_component for embedding:100, n_trees_in_rf:50, knn_k:5\n",
            "Training time: 390.17914605140686\n",
            "Evaluating lrap: 0.05401250879515343\n",
            "n_component for embedding:100, n_trees_in_rf:50, knn_k:10\n",
            "Training time: 393.82389068603516\n",
            "Evaluating lrap: 0.05401250879515343\n",
            "n_component for embedding:100, n_trees_in_rf:50, knn_k:20\n",
            "Training time: 402.555428981781\n",
            "Evaluating lrap: 0.05401250879515343\n",
            "n_component for embedding:100, n_trees_in_rf:50, knn_k:30\n",
            "Training time: 398.67339611053467\n",
            "Evaluating lrap: 0.05401250879515343\n",
            "n_component for embedding:100, n_trees_in_rf:50, knn_k:50\n",
            "Training time: 397.4449050426483\n",
            "Evaluating lrap: 0.05401250879515343\n",
            "n_component for embedding:100, n_trees_in_rf:100, knn_k:5\n",
            "Training time: 397.93459916114807\n",
            "Evaluating lrap: 0.05401250879515343\n",
            "n_component for embedding:100, n_trees_in_rf:100, knn_k:10\n",
            "Training time: 400.5208396911621\n",
            "Evaluating lrap: 0.05401250879515343\n",
            "n_component for embedding:100, n_trees_in_rf:100, knn_k:20\n",
            "Training time: 397.30665016174316\n",
            "Evaluating lrap: 0.05401250879515343\n",
            "n_component for embedding:100, n_trees_in_rf:100, knn_k:30\n",
            "Training time: 390.956223487854\n",
            "Evaluating lrap: 0.05401250879515343\n",
            "n_component for embedding:100, n_trees_in_rf:100, knn_k:50\n",
            "Training time: 396.14391803741455\n",
            "Evaluating lrap: 0.05401250879515343\n",
            "n_component for embedding:100, n_trees_in_rf:150, knn_k:5\n",
            "Training time: 404.4863085746765\n",
            "Evaluating lrap: 0.05401250879515343\n",
            "n_component for embedding:100, n_trees_in_rf:150, knn_k:10\n",
            "Training time: 391.54002618789673\n",
            "Evaluating lrap: 0.05401250879515343\n",
            "n_component for embedding:100, n_trees_in_rf:150, knn_k:20\n",
            "Training time: 395.66387581825256\n",
            "Evaluating lrap: 0.05401250879515343\n",
            "n_component for embedding:100, n_trees_in_rf:150, knn_k:30\n",
            "Training time: 395.9608008861542\n",
            "Evaluating lrap: 0.05401250879515343\n",
            "n_component for embedding:100, n_trees_in_rf:150, knn_k:50\n",
            "Training time: 388.28505420684814\n",
            "Evaluating lrap: 0.05401250879515343\n",
            "n_component for embedding:100, n_trees_in_rf:200, knn_k:5\n",
            "Training time: 393.3565604686737\n",
            "Evaluating lrap: 0.05401250879515343\n",
            "n_component for embedding:100, n_trees_in_rf:200, knn_k:10\n",
            "Training time: 390.8078718185425\n",
            "Evaluating lrap: 0.05401250879515343\n",
            "n_component for embedding:100, n_trees_in_rf:200, knn_k:20\n",
            "Training time: 390.6167953014374\n",
            "Evaluating lrap: 0.05401250879515343\n",
            "n_component for embedding:100, n_trees_in_rf:200, knn_k:30\n",
            "Training time: 395.6335163116455\n",
            "Evaluating lrap: 0.05401250879515343\n",
            "n_component for embedding:100, n_trees_in_rf:200, knn_k:50\n",
            "Training time: 392.7841730117798\n",
            "Evaluating lrap: 0.05401250879515343\n",
            "n_component for embedding:150, n_trees_in_rf:10, knn_k:5\n",
            "Training time: 403.69141817092896\n",
            "Evaluating lrap: 0.05401250879515343\n",
            "n_component for embedding:150, n_trees_in_rf:10, knn_k:10\n",
            "Training time: 401.4194452762604\n",
            "Evaluating lrap: 0.05401250879515343\n",
            "n_component for embedding:150, n_trees_in_rf:10, knn_k:20\n",
            "Training time: 395.75096559524536\n",
            "Evaluating lrap: 0.05401250879515343\n",
            "n_component for embedding:150, n_trees_in_rf:10, knn_k:30\n",
            "Training time: 393.4601135253906\n",
            "Evaluating lrap: 0.05401250879515343\n",
            "n_component for embedding:150, n_trees_in_rf:10, knn_k:50\n",
            "Training time: 394.11441826820374\n",
            "Evaluating lrap: 0.05401250879515343\n",
            "n_component for embedding:150, n_trees_in_rf:50, knn_k:5\n",
            "Training time: 398.01305532455444\n",
            "Evaluating lrap: 0.05401250879515343\n",
            "n_component for embedding:150, n_trees_in_rf:50, knn_k:10\n",
            "Training time: 396.6582622528076\n",
            "Evaluating lrap: 0.05401250879515343\n",
            "n_component for embedding:150, n_trees_in_rf:50, knn_k:20\n",
            "Training time: 401.0707211494446\n",
            "Evaluating lrap: 0.05401250879515343\n",
            "n_component for embedding:150, n_trees_in_rf:50, knn_k:30\n",
            "Training time: 415.15150594711304\n",
            "Evaluating lrap: 0.05401250879515343\n",
            "n_component for embedding:150, n_trees_in_rf:50, knn_k:50\n",
            "Training time: 403.2017242908478\n",
            "Evaluating lrap: 0.05401250879515343\n",
            "n_component for embedding:150, n_trees_in_rf:100, knn_k:5\n",
            "Training time: 399.4566128253937\n",
            "Evaluating lrap: 0.05401250879515343\n",
            "n_component for embedding:150, n_trees_in_rf:100, knn_k:10\n",
            "Training time: 383.9837369918823\n",
            "Evaluating lrap: 0.05401250879515343\n",
            "n_component for embedding:150, n_trees_in_rf:100, knn_k:20\n",
            "Training time: 386.7799324989319\n",
            "Evaluating lrap: 0.05401250879515343\n",
            "n_component for embedding:150, n_trees_in_rf:100, knn_k:30\n",
            "Training time: 392.4476456642151\n",
            "Evaluating lrap: 0.05401250879515343\n",
            "n_component for embedding:150, n_trees_in_rf:100, knn_k:50\n",
            "Training time: 386.3057987689972\n",
            "Evaluating lrap: 0.05401250879515343\n",
            "n_component for embedding:150, n_trees_in_rf:150, knn_k:5\n",
            "Training time: 390.0405025482178\n",
            "Evaluating lrap: 0.05401250879515343\n",
            "n_component for embedding:150, n_trees_in_rf:150, knn_k:10\n",
            "Training time: 397.7211790084839\n",
            "Evaluating lrap: 0.05401250879515343\n",
            "n_component for embedding:150, n_trees_in_rf:150, knn_k:20\n",
            "Training time: 400.09248781204224\n",
            "Evaluating lrap: 0.05401250879515343\n",
            "n_component for embedding:150, n_trees_in_rf:150, knn_k:30\n",
            "Training time: 394.6005973815918\n",
            "Evaluating lrap: 0.05401250879515343\n",
            "n_component for embedding:150, n_trees_in_rf:150, knn_k:50\n",
            "Training time: 406.08678126335144\n",
            "Evaluating lrap: 0.05401250879515343\n",
            "n_component for embedding:150, n_trees_in_rf:200, knn_k:5\n",
            "Training time: 395.11983156204224\n",
            "Evaluating lrap: 0.05401250879515343\n",
            "n_component for embedding:150, n_trees_in_rf:200, knn_k:10\n",
            "Training time: 390.12039589881897\n",
            "Evaluating lrap: 0.05401250879515343\n",
            "n_component for embedding:150, n_trees_in_rf:200, knn_k:20\n",
            "Training time: 400.2236671447754\n",
            "Evaluating lrap: 0.05401250879515343\n",
            "n_component for embedding:150, n_trees_in_rf:200, knn_k:30\n",
            "Training time: 389.87753891944885\n",
            "Evaluating lrap: 0.05401250879515343\n",
            "n_component for embedding:150, n_trees_in_rf:200, knn_k:50\n",
            "Training time: 396.06866216659546\n",
            "Evaluating lrap: 0.05401250879515343\n",
            "n_component for embedding:200, n_trees_in_rf:10, knn_k:5\n",
            "Training time: 390.9313716888428\n",
            "Evaluating lrap: 0.05401250879515343\n"
          ],
          "name": "stdout"
        }
      ]
    }
  ]
}